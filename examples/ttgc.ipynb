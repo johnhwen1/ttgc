{
 "cells": [
  {
   "cell_type": "markdown",
   "id": "c0ab2129-3cf9-48f0-b930-bc3b2ee30ed7",
   "metadata": {},
   "source": [
    "# Model Description"
   ]
  },
  {
   "cell_type": "markdown",
   "id": "7f9117ec-b5b7-4c2a-88f8-299a09904971",
   "metadata": {},
   "source": [
    "This model is based on work by Guanella et al. 2007. For more details, see the reference:\n",
    "\n",
    "Guanella, A., Kiper, D. & Verschure, P. A model of grid cells based on a twisted torus topology. Int. J. Neural Syst. 17, 231–240 (2007). "
   ]
  },
  {
   "cell_type": "markdown",
   "id": "d43561da-d79a-45f0-a0b4-d1fb7d1b7659",
   "metadata": {},
   "source": [
    "## Activity and Stabilization\n",
    "A set of $N$ comodular grid cells's activity is modeled. The activity of neuron $i$ at time $t$ is given by the following:\n",
    "\n",
    "\\begin{gather}\n",
    "A_i(t) = B_i(t) + \\tau\\bigg(\\frac{B_i(t)} {{<B_j(t-1)>}_{j=1}^{N}} - B_i(t)\\bigg),\n",
    "\\end{gather}\n",
    "\n",
    "where $\\tau$ represents a stabilization factor, ${< \\space .\\space>}_{j=1}^{N}$ is the mean over cells in the network, and $B_i(t)$ is a linear transfer function defined as follows:\n",
    "\n",
    "\\begin{gather}\n",
    "B_i(t) = A_i(t-1) + \\sum_{j=1}^{N}A_j(t-1)w_{ji}(t-1),\n",
    "\\end{gather}\n",
    "\n",
    "where $w_{ji}(t-1)$ is the weight from cell $j$ to cell $i$ at time $t-1$, with $i,j \\in \\{1, 2, ..., N \\}$.\n",
    "\n",
    "Neurons are initialized with random activity uniformly between $0$ and $1/\\sqrt N$"
   ]
  },
  {
   "cell_type": "markdown",
   "id": "b34c8f0d-67ce-46d6-85dc-1ceffe361873",
   "metadata": {},
   "source": [
    "## Attractor Dynamics\n",
    "When the agent is stationary, the weight between neuron $i$ and $j$ is defined as follows:\n",
    "\n",
    "\\begin{gather}\n",
    "w_{ij} = I \\exp \\bigg(- \\frac{||c_i - c_j||^2_{tri}} {\\sigma^2}\\bigg) - T\n",
    "\\end{gather}\n",
    "\n",
    "The weight is dependent on the relative \"positions\" of cells $i$ and $j$. The position of neuron $i$ is defined as ${c_i}$ $= (c_{i_{x}}\\space ,\\space c_{i_{y}})$, $ c_{i_{x}} = (i_x− 0.5)/N_x $, $ c_{i_{y}} = \\frac{\\sqrt3}{2} (i_y− 0.5)/N_y$ with $i_x \\in \\{1, 2, ..., N_x\\}$ and $i_y \\in \\{1, 2, ..., N_y\\}$, and where $N_x$ and $N_y$ are the number of columns and rows\n",
    "in the cells matrix and $i_x$ and $i_y$ the column and the row numbers of cell $i$. \n",
    "\n",
    "Additionally, global parameters that govern the relationship between all pairs of cells include $I$, the intensity parameter, $\\sigma$ the size of the Gaussian, $T$ the shift parameter (see the referenced paper for more details).\n",
    "\n",
    "Finally, the key to getting triangular grid instead of square ones is to use a distance metric defined as follows: \n",
    "$\\text{dist}_{tri}({c_i}$ $, $ $ c_j$ $)$ := $\\| c_i− c_j \\|_{tri} = \\text{min}_{k=1}^7 \\| c_i $ $− \\space  c_j$ $+  \\space s_k\\|$, \n",
    "\n",
    "where\n",
    "\n",
    "$s_1 := (0, 0)$\n",
    "\n",
    "$s_2 := (−0.5, \\frac{\\sqrt3}{2})$\n",
    "\n",
    "$s_3 := (−0.5, -\\frac{\\sqrt3}{2})$\n",
    "\n",
    "$s_4 := (0.5, \\frac{\\sqrt3}{2})$\n",
    "\n",
    "$s_5 := (0.5, -\\frac{\\sqrt3}{2})$\n",
    "\n",
    "$s_6 := (−1, 0)$\n",
    "\n",
    "$s_7 := (1, 0)$\n",
    "\n",
    "and where $\\| \\space . \\space \\|$ is the Euclidean norm."
   ]
  },
  {
   "cell_type": "markdown",
   "id": "d1af9711-6c05-4f60-a545-1643b1e6cd70",
   "metadata": {},
   "source": [
    "## Modulation\n",
    "When the agent is moving, the weight between neurons $i$ and $j$ becomes modulated by the velocity $v := (v_x, v_y)$. In essence, the synaptic connections of the network shift in the direction of the agent. This modulation is expressed as follows:\n",
    "\\begin{gather}\n",
    "w_{ij}(t) =  I \\exp \\bigg(- \\frac{\\|c_i - c_j+ \\alpha R_{\\beta}v(t-1)\\|^2_{tri}} {\\sigma^2}\\bigg) - T\n",
    "\\end{gather}\n",
    "\n",
    "The scale and orientation of the grid is dictated by the gain factor $\\alpha \\in \\mathbb{R}^+$ and bias $\\beta \\in [0, π/3]$. The input of the network is thus modulated and biased by the gain and the bias parameters, with $v \\longmapsto \\alpha R_{\\beta}v$ , where $R_{\\beta}$ is the rotation matrix of angle $\\beta$ defined by\n",
    "\\begin{gather}\n",
    "R_{\\beta} = \\begin{bmatrix}\n",
    "\\cos(\\beta) & -\\sin(\\beta) \\\\\n",
    "\\sin(β) & cos(β)\\end{bmatrix}\n",
    "\\end{gather}"
   ]
  },
  {
   "cell_type": "markdown",
   "id": "b848e7ab-366a-4363-8191-8ab67df3f548",
   "metadata": {},
   "source": [
    "## Modifications\n",
    "This model is modified in two key ways from the model described in Guanella et al 2007. The first modification allows for added heading direction noise at each timestep, and the second introduces landmark inputs to the grid cell network. Heading direction noise is added as $\\beta_{\\text{noisy}}(t) = \\beta + \\sigma_{\\beta} r(t)$, where $\\beta$ is the unmodified bias, $\\sigma_{\\beta}$ regulates the extent of noise, and $r(t)$ is drawn from the standard normal distribution, and $\\beta_{\\text{noisy}}(t)$ is still constrained such that $\\beta_{\\text{noisy}}(t) \\in [0, π/3]$ The rotation matrix is then calculated using $\\beta_{\\text{noisy}}(t)$.\n",
    "\n",
    "Landmark inputs are added with the addition of landmark cells and their unidirectional excitatory synaptic connections to grid cells. When landmarks are present, each landmark $L_{l}$ is associated with its own dedicated landmark cell population. A given landmark cell's activity $A_{L_{l_m}}$ is dependent on the agent's proximity to the landmark's position, where $l \\in \\{1, ..., N_L\\}$ and where $N_L$ is the number of landmarks present and $m \\in \\{1, ..., N_{Ln}\\}$ where $N_{Ln}$ is a global parameter setting the number of landmark cells dedicated to any given landmark. The activity of landmark cell $A_{L_{l_m}}$ is defined as\n",
    "\n",
    "\\begin{gather}\n",
    "A_{L_{l_m}} = \\begin{cases} \n",
    "\\alpha_{L_l} \\exp \\bigg(- \\frac{\\|p(t) - p_{L_l}\\|^2} {\\big(\\frac{1}{2} q_{L_l}\\big)^2} \\bigg) &  \\text{if} \\space ||p(t) - p_{L_l}|| \\leq q_{L_l} \\\\\n",
    "0 & \\text{otherwise},\n",
    "\\end{cases}\n",
    "\\end{gather}\n",
    "\n",
    "where the strength of landmark $L_l$ is governed by $\\alpha_{L_l} \\in \\mathbb{R}^+$, $p(t):= (p_x(t), p_y(t))$ is the position of the agent at time $t$, $p_{L_l} := (p_{L_{l_x}}, p_{L_{l_y}})$ is the position of $L_l$, and $q_{L_l} \\in \\mathbb{R}^+$ represents the lookahead distance at which landmark $L_l$ begins recruiting the activity of its landmark cells. To incorporate input from landmark cells, the linear transfer function is modified as follows:\n",
    "\n",
    "\\begin{gather}\n",
    "B_i(t) = A_i(t-1) + \\sum_{j=1}^{N}A_j(t-1)w_{ji}(t-1) + \\sum_{l=1}^{N_{L}} \\sum_{m=1}^{N_{Ln}} A_{L_{l_m}}(t-1) w_{l_m i}(t-1)\n",
    "\\end{gather}\n",
    "\n",
    "where $w_{l_mi}$ is the weight from landmark cell $m$, which responds to landmark $l$, to grid cell $i$.\n",
    "\n",
    "A model containing a Hebbian plasticity term between landmark cells and grid cells makes the following modifications:\n",
    "1. The weight between each landmark cell and the $N$ grid cells is initialized randomly with values between $0$ and $1/\\sqrt N$\n",
    "2. Hebbian plasticity allows changes in weights between landmark cells and grid cells as follows:\n",
    "\n",
    "$w_{l_mi}(t) = w_{l_mi}(t-1) + \\alpha_{\\text{hebb}} (A_i(t-1) A_{L_{m_i}}(t-1)) - \\alpha_{\\text{decay}}$\n",
    "\n",
    "where $ \\alpha_{\\text{hebb}}$ regulates the extent of Hebbian potentiation and $ \\alpha_{\\text{decay}}$ provides a constant decay factor. Weight values are constrained to be between some minimum $W_{L_{\\text{min}}}$ and maximum $W_{L_{\\text{max}}}$"
   ]
  },
  {
   "cell_type": "code",
   "execution_count": null,
   "id": "d44492d7-7536-4c50-8727-1292801429ec",
   "metadata": {},
   "outputs": [],
   "source": []
  }
 ],
 "metadata": {
  "kernelspec": {
   "display_name": "Python 3 (ipykernel)",
   "language": "python",
   "name": "python3"
  },
  "language_info": {
   "codemirror_mode": {
    "name": "ipython",
    "version": 3
   },
   "file_extension": ".py",
   "mimetype": "text/x-python",
   "name": "python",
   "nbconvert_exporter": "python",
   "pygments_lexer": "ipython3",
   "version": "3.11.9"
  }
 },
 "nbformat": 4,
 "nbformat_minor": 5
}
