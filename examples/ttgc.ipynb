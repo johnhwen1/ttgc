{
 "cells": [
  {
   "cell_type": "markdown",
   "id": "c0ab2129-3cf9-48f0-b930-bc3b2ee30ed7",
   "metadata": {},
   "source": [
    "# Model Description"
   ]
  },
  {
   "cell_type": "markdown",
   "id": "7f9117ec-b5b7-4c2a-88f8-299a09904971",
   "metadata": {},
   "source": [
    "This model is based on work by Guanella et al. 2007. For more details, see the reference:\n",
    "\n",
    "Guanella, A., Kiper, D. & Verschure, P. A model of grid cells based on a twisted torus topology. Int. J. Neural Syst. 17, 231–240 (2007). "
   ]
  },
  {
   "cell_type": "markdown",
   "id": "d43561da-d79a-45f0-a0b4-d1fb7d1b7659",
   "metadata": {},
   "source": [
    "## Activity and Stabilization\n",
    "A set of $N$ comodular grid cells's activity is modeled. The activity of neuron $i$ at time $t$ is given by the following:\n",
    "\n",
    "\\begin{gather}\n",
    "A_i(t) = B_i(t) + \\tau\\bigg(\\frac{B_i(t)} {{<B_j(t-1)>}_{j=1}^{N}} - B_i(t)\\bigg),\n",
    "\\end{gather}\n",
    "\n",
    "where $\\tau$ represents a stabilization factor, ${< \\space .\\space>}_{j=1}^{N}$ is the mean over cells in the network, and $B_i(t)$ is a linear transfer function defined as follows:\n",
    "\n",
    "\\begin{gather}\n",
    "B_i(t) = A_i(t-1) + \\sum_{j=1}^{N}A_j(t-1)w_{ji}(t-1),\n",
    "\\end{gather}\n",
    "\n",
    "where $w_{ji}(t-1)$ is the weight from cell $j$ to cell $i$ at time $t-1$, with $i,j \\in \\{1, 2, ..., N \\}$.\n",
    "\n",
    "Neurons are initialized with random activity uniformly between $0$ and $1/\\sqrt N$"
   ]
  },
  {
   "cell_type": "markdown",
   "id": "b34c8f0d-67ce-46d6-85dc-1ceffe361873",
   "metadata": {},
   "source": [
    "## Attractor Dynamics\n",
    "When the agent is stationary, the weight between neuron $i$ and $j$ is defined as follows:\n",
    "\n",
    "\\begin{gather}\n",
    "w_{ij} = I \\exp \\bigg(- \\frac{||c_i - c_j||^2_{tri}} {\\sigma^2}\\bigg) - T\n",
    "\\end{gather}\n",
    "\n",
    "The weight is dependent on the relative \"positions\" of cells $i$ and $j$. The position of neuron $i$ is defined as ${c_i}$ $= (c_{i_{x}}\\space ,\\space c_{i_{y}})$, $ c_{i_{x}} = (i_x− 0.5)/N_x $, $ c_{i_{y}} = \\frac{\\sqrt3}{2} (i_y− 0.5)/N_y$ with $i_x \\in \\{1, 2, ..., N_x\\}$ and $i_y \\in \\{1, 2, ..., N_y\\}$, and where $N_x$ and $N_y$ are the number of columns and rows\n",
    "in the cells matrix and $i_x$ and $i_y$ the column and the row numbers of cell $i$. \n",
    "\n",
    "Additionally, global parameters that govern the relationship between all pairs of cells include $I$, the intensity parameter, $\\sigma$ the size of the Gaussian, $T$ the shift parameter (see the referenced paper for more details).\n",
    "\n",
    "Finally, the key to getting triangular grid instead of square ones is to use a distance metric defined as follows: \n",
    "$\\text{dist}_{tri}({c_i}$ $, $ $ c_j$ $)$ := $\\| c_i− c_j \\|_{tri} = \\text{min}_{k=1}^7 \\| c_i $ $− \\space  c_j$ $+  \\space s_k\\|$, \n",
    "\n",
    "where\n",
    "\n",
    "$s_1 := (0, 0)$\n",
    "\n",
    "$s_2 := (−0.5, \\frac{\\sqrt3}{2})$\n",
    "\n",
    "$s_3 := (−0.5, -\\frac{\\sqrt3}{2})$\n",
    "\n",
    "$s_4 := (0.5, \\frac{\\sqrt3}{2})$\n",
    "\n",
    "$s_5 := (0.5, -\\frac{\\sqrt3}{2})$\n",
    "\n",
    "$s_6 := (−1, 0)$\n",
    "\n",
    "$s_7 := (1, 0)$\n",
    "\n",
    "and where $\\| \\space . \\space \\|$ is the Euclidean norm."
   ]
  },
  {
   "cell_type": "markdown",
   "id": "d1af9711-6c05-4f60-a545-1643b1e6cd70",
   "metadata": {},
   "source": [
    "## Modulation\n",
    "When the agent is moving, the weight between neurons $i$ and $j$ becomes modulated by the velocity $v := (v_x, v_y)$. In essence, the synaptic connections of the network shift in the direction of the agent. This modulation is expressed as follows:\n",
    "\\begin{gather}\n",
    "w_{ij}(t) =  I \\exp \\bigg(- \\frac{\\|c_i - c_j+ \\alpha R_{\\beta}v(t-1)\\|^2_{tri}} {\\sigma^2}\\bigg) - T\n",
    "\\end{gather}\n",
    "\n",
    "The scale and orientation of the grid is dictated by the gain factor $\\alpha \\in \\mathbb{R}^+$ and bias $\\beta \\in [0, π/3]$. The input of the network is thus modulated and biased by the gain and the bias parameters, with $v \\longmapsto \\alpha R_{\\beta}v$ , where $R_{\\beta}$ is the rotation matrix of angle $\\beta$ defined by\n",
    "\\begin{gather}\n",
    "R_{\\beta} = \\begin{bmatrix}\n",
    "\\cos(\\beta) & -\\sin(\\beta) \\\\\n",
    "\\sin(β) & cos(β)\\end{bmatrix}\n",
    "\\end{gather}"
   ]
  },
  {
   "cell_type": "markdown",
   "id": "b848e7ab-366a-4363-8191-8ab67df3f548",
   "metadata": {},
   "source": [
    "## Modifications\n",
    "This model is modified in two key ways from the model described in Guanella et al 2007. The first modification allows for added heading direction noise at each timestep, and the second introduces landmark inputs to the grid cell network. Heading direction noise is added as $\\beta_{\\text{noisy}}(t) = \\beta + \\sigma_{\\beta} r(t)$, where $\\beta$ is the unmodified bias, $\\sigma_{\\beta}$ regulates the extent of noise, and $r(t)$ is drawn from the standard normal distribution, and $\\beta_{\\text{noisy}}(t)$ is still constrained such that $\\beta_{\\text{noisy}}(t) \\in [0, π/3]$ The rotation matrix is then calculated using $\\beta_{\\text{noisy}}(t)$.\n",
    "\n",
    "Landmark inputs are added with the addition of landmark cells and their unidirectional excitatory synaptic connections to grid cells. When landmarks are present, each landmark $L_{l}$ is associated with its own dedicated landmark cell population. A given landmark cell's activity $A_{L_{l_m}}$ is dependent on the agent's proximity to the landmark's position, where $l \\in \\{1, ..., N_L\\}$ and where $N_L$ is the number of landmarks present and $m \\in \\{1, ..., N_{Ln}\\}$ where $N_{Ln}$ is a global parameter setting the number of landmark cells dedicated to any given landmark. The activity of landmark cell $A_{L_{l_m}}$ is defined as\n",
    "\n",
    "\\begin{gather}\n",
    "A_{L_{l_m}} = \\begin{cases} \n",
    "\\alpha_{L_l} \\exp \\bigg(- \\frac{\\|p(t) - p_{L_l}\\|^2} {\\big(\\frac{1}{2} q_{L_l}\\big)^2} \\bigg) &  \\text{if} \\space ||p(t) - p_{L_l}|| \\leq q_{L_l} \\\\\n",
    "0 & \\text{otherwise},\n",
    "\\end{cases}\n",
    "\\end{gather}\n",
    "\n",
    "where the strength of landmark $L_l$ is governed by $\\alpha_{L_l} \\in \\mathbb{R}^+$, $p(t):= (p_x(t), p_y(t))$ is the position of the agent at time $t$, $p_{L_l} := (p_{L_{l_x}}, p_{L_{l_y}})$ is the position of $L_l$, and $q_{L_l} \\in \\mathbb{R}^+$ represents the lookahead distance at which landmark $L_l$ begins recruiting the activity of its landmark cells. To incorporate input from landmark cells, the linear transfer function is modified as follows:\n",
    "\n",
    "\\begin{gather}\n",
    "B_i(t) = A_i(t-1) + \\sum_{j=1}^{N}A_j(t-1)w_{ji}(t-1) + \\sum_{l=1}^{N_{L}} \\sum_{m=1}^{N_{Ln}} A_{L_{l_m}}(t-1) w_{l_m i}(t-1)\n",
    "\\end{gather}\n",
    "\n",
    "where $w_{l_mi}$ is the weight from landmark cell $m$, which responds to landmark $l$, to grid cell $i$.\n",
    "\n",
    "A model containing a Hebbian plasticity term between landmark cells and grid cells makes the following modifications:\n",
    "1. The weight between each landmark cell and the $N$ grid cells is initialized randomly with values between $0$ and $1/\\sqrt N$\n",
    "2. Hebbian plasticity allows changes in weights between landmark cells and grid cells as follows:\n",
    "\n",
    "$w_{l_mi}(t) = w_{l_mi}(t-1) + \\alpha_{\\text{hebb}} (A_i(t-1) A_{L_{m_i}}(t-1)) - \\alpha_{\\text{decay}}$\n",
    "\n",
    "where $ \\alpha_{\\text{hebb}}$ regulates the extent of Hebbian potentiation and $ \\alpha_{\\text{decay}}$ provides a constant decay factor. Weight values are constrained to be between some minimum $W_{L_{\\text{min}}}$ and maximum $W_{L_{\\text{max}}}$"
   ]
  },
  {
   "cell_type": "markdown",
   "id": "6d81ba72-0280-4b76-858e-a3c34043e5ae",
   "metadata": {},
   "source": [
    "# Install TTGC"
   ]
  },
  {
   "cell_type": "code",
   "execution_count": null,
   "id": "5577fd86-f7f6-447f-b26f-5a12a53261a4",
   "metadata": {},
   "outputs": [],
   "source": [
    "!pip install ttgc"
   ]
  },
  {
   "cell_type": "code",
   "execution_count": 11,
   "id": "956154bc-93ed-4feb-9633-bcb6a190b499",
   "metadata": {},
   "outputs": [
    {
     "ename": "ModuleNotFoundError",
     "evalue": "No module named 'scipy'",
     "output_type": "error",
     "traceback": [
      "\u001b[31m---------------------------------------------------------------------------\u001b[39m",
      "\u001b[31mModuleNotFoundError\u001b[39m                       Traceback (most recent call last)",
      "\u001b[36mCell\u001b[39m\u001b[36m \u001b[39m\u001b[32mIn[11]\u001b[39m\u001b[32m, line 3\u001b[39m\n\u001b[32m      1\u001b[39m \u001b[38;5;28;01mfrom\u001b[39;00m\u001b[38;5;250m \u001b[39m\u001b[34;01mttgc\u001b[39;00m\u001b[38;5;250m \u001b[39m\u001b[38;5;28;01mimport\u001b[39;00m *\n\u001b[32m      2\u001b[39m \u001b[38;5;28;01mimport\u001b[39;00m\u001b[38;5;250m \u001b[39m\u001b[34;01mnumpy\u001b[39;00m\u001b[38;5;250m \u001b[39m\u001b[38;5;28;01mas\u001b[39;00m\u001b[38;5;250m \u001b[39m\u001b[34;01mnp\u001b[39;00m\n\u001b[32m----> \u001b[39m\u001b[32m3\u001b[39m \u001b[38;5;28;01mfrom\u001b[39;00m\u001b[38;5;250m \u001b[39m\u001b[34;01mscipy\u001b[39;00m\u001b[34;01m.\u001b[39;00m\u001b[34;01mndimage\u001b[39;00m\u001b[38;5;250m \u001b[39m\u001b[38;5;28;01mimport\u001b[39;00m gaussian_filter1d\n",
      "\u001b[31mModuleNotFoundError\u001b[39m: No module named 'scipy'"
     ]
    }
   ],
   "source": [
    "from ttgc import *\n",
    "import numpy as np\n",
    "from scipy.ndimage import gaussian_filter1d"
   ]
  },
  {
   "cell_type": "code",
   "execution_count": 7,
   "id": "eb6062e5-7740-4569-a36f-cbfeec737fa7",
   "metadata": {},
   "outputs": [],
   "source": [
    "import csv"
   ]
  },
  {
   "cell_type": "code",
   "execution_count": 8,
   "id": "de32fc16-7cea-4ecd-a455-7ea3b6f5c413",
   "metadata": {},
   "outputs": [],
   "source": [
    "import csv\n",
    "# filename = 'D:/Code/bump_video/sim/AO1_231221_postop_day9_OF01_g2_position.txt'\n",
    "# filename = 'D:/Code/bump_video/sim/AO2_231221_postop_day7_OF01_g1_position.txt'\n",
    "# filename = 'D:/Code/bump_video/sim/AO4_231219_postop_day5_OF01_g1_position.txt'\n",
    "filename = 'D:/Code/bump_video/sim/AO5_231218_postop_day6_OF01_g1_position.txt'\n",
    "\n",
    "data = []\n",
    "with open(filename, newline='') as csvfile:\n",
    "    reader = csv.reader(csvfile, delimiter=',')\n",
    "    for row in reader:\n",
    "        data.append(row)\n",
    "        \n",
    "csvfile.close()\n",
    "data=np.array(data)\n",
    "\n",
    "pos_str = data[100:,7:9]\n",
    "\n",
    "def myArrayConverter(arr):\n",
    "\n",
    "    convertArr = []\n",
    "    for s in arr.ravel():    \n",
    "        try:\n",
    "            value = float(s)\n",
    "        except ValueError:\n",
    "            value = np.nan\n",
    "\n",
    "        convertArr.append(value)\n",
    "\n",
    "    return np.array(convertArr,dtype=object).reshape(arr.shape)"
   ]
  },
  {
   "cell_type": "code",
   "execution_count": 10,
   "id": "c588e998-59e7-48f6-845b-e6754237aa3c",
   "metadata": {},
   "outputs": [
    {
     "name": "stderr",
     "output_type": "stream",
     "text": [
      "C:\\Users\\johnh\\.conda\\envs\\test_env\\Lib\\site-packages\\numpy\\_core\\_methods.py:48: RuntimeWarning: invalid value encountered in reduce\n",
      "  return umr_minimum(a, axis, None, out, keepdims, initial, where)\n",
      "C:\\Users\\johnh\\.conda\\envs\\test_env\\Lib\\site-packages\\numpy\\_core\\_methods.py:44: RuntimeWarning: invalid value encountered in reduce\n",
      "  return umr_maximum(a, axis, None, out, keepdims, initial, where)\n"
     ]
    },
    {
     "ename": "NameError",
     "evalue": "name 'gaussian_filter1d' is not defined",
     "output_type": "error",
     "traceback": [
      "\u001b[31m---------------------------------------------------------------------------\u001b[39m",
      "\u001b[31mNameError\u001b[39m                                 Traceback (most recent call last)",
      "\u001b[36mCell\u001b[39m\u001b[36m \u001b[39m\u001b[32mIn[10]\u001b[39m\u001b[32m, line 16\u001b[39m\n\u001b[32m     14\u001b[39m pos_moving = pos[bins_moving[start_bin:start_bin+\u001b[32m50001\u001b[39m:\u001b[32m1\u001b[39m],:]\n\u001b[32m     15\u001b[39m vel2d = np.diff(pos_moving, axis=\u001b[32m0\u001b[39m).astype(\u001b[38;5;28mfloat\u001b[39m)\n\u001b[32m---> \u001b[39m\u001b[32m16\u001b[39m vel2d = \u001b[43mgaussian_filter1d\u001b[49m(vel2d, \u001b[32m2\u001b[39m, axis=\u001b[32m0\u001b[39m)\n\u001b[32m     18\u001b[39m this_pos = pos_moving[\u001b[32m0\u001b[39m,:] + np.cumsum(vel2d, axis=\u001b[32m0\u001b[39m)\n\u001b[32m     19\u001b[39m plt.plot(this_pos[:,\u001b[32m0\u001b[39m], this_pos[:,\u001b[32m1\u001b[39m])\n",
      "\u001b[31mNameError\u001b[39m: name 'gaussian_filter1d' is not defined"
     ]
    }
   ],
   "source": [
    "pos = myArrayConverter(pos_str)\n",
    "norm_pos=(pos - pos.min(0)) / (pos.max(0)-pos.min(0))\n",
    "pos = (norm_pos * 250).astype(float)\n",
    "# pos = gaussian_filter1d(pos, 1, axis=0)\n",
    "# plt.plot(pos[:,0], pos[:,1])\n",
    "\n",
    "vel2d = np.diff(pos, axis=0)\n",
    "speed = np.sqrt((np.power(vel2d[:,0], 2) + np.power(vel2d[:,1],2)).astype(float))\n",
    "\n",
    "# bins_moving = np.where(speed > 0.5)[0]\n",
    "bins_moving = np.where(speed > 0.35)[0]\n",
    "\n",
    "start_bin=15000\n",
    "pos_moving = pos[bins_moving[start_bin:start_bin+50001:1],:]\n",
    "vel2d = np.diff(pos_moving, axis=0).astype(float)\n",
    "vel2d = gaussian_filter1d(vel2d, 2, axis=0)\n",
    "\n",
    "this_pos = pos_moving[0,:] + np.cumsum(vel2d, axis=0)\n",
    "plt.plot(this_pos[:,0], this_pos[:,1])"
   ]
  },
  {
   "cell_type": "code",
   "execution_count": 9,
   "id": "73ebd865-346b-458e-8038-7856fa4e72d7",
   "metadata": {},
   "outputs": [
    {
     "ename": "NameError",
     "evalue": "name 'vel2d' is not defined",
     "output_type": "error",
     "traceback": [
      "\u001b[31m---------------------------------------------------------------------------\u001b[39m",
      "\u001b[31mNameError\u001b[39m                                 Traceback (most recent call last)",
      "\u001b[36mCell\u001b[39m\u001b[36m \u001b[39m\u001b[32mIn[9]\u001b[39m\u001b[32m, line 4\u001b[39m\n\u001b[32m      1\u001b[39m \u001b[38;5;66;03m# TEST ADDING MULTIPLE LANDMARK CELLS PER LANDMARK\u001b[39;00m\n\u001b[32m      2\u001b[39m output_bins = \u001b[32m5000\u001b[39m\n\u001b[32m----> \u001b[39m\u001b[32m4\u001b[39m n_timebins = \u001b[43mvel2d\u001b[49m.shape[\u001b[32m0\u001b[39m]\n\u001b[32m      6\u001b[39m \u001b[38;5;66;03m# n_timebins=6000\u001b[39;00m\n\u001b[32m      7\u001b[39m velocity_gain = \u001b[32m1\u001b[39m/\u001b[32m5\u001b[39m\n",
      "\u001b[31mNameError\u001b[39m: name 'vel2d' is not defined"
     ]
    }
   ],
   "source": [
    "# TEST ADDING MULTIPLE LANDMARK CELLS PER LANDMARK\n",
    "output_bins = 5000\n",
    "\n",
    "n_timebins = vel2d.shape[0]\n",
    "\n",
    "# n_timebins=6000\n",
    "velocity_gain = 1/5\n",
    "velocity = velocity_gain* np.copy(vel2d)\n",
    "velocity = np.copy(velocity[:1000])\n",
    "n_timebins = 1000\n",
    "\n",
    "track_length=100\n",
    "# l_pos = np.array([np.array([5,5]), np.array([45,45]), np.array([5, 45]), np.array([45, 5])])\n",
    "# l_str = 0.5\n",
    "n_warmup_bins = 100\n",
    "B0 = np.zeros((N))\n",
    "# alpha=0.05\n",
    "beta = np.pi/4\n",
    "tau = 0.8\n",
    "# T_sim = 0.05\n",
    "T_sim = 0.04\n",
    "I=0.2\n",
    "# I = 0.30\n",
    "# sigma_sim=0.24\n",
    "sigma_sim=0.20 # trying to make sigma_sim smaller to make things more noticeably different between phases. However, if it's too small, then attractor dynamics win over and prevent external inputs\n",
    "\n",
    "# n_alphas = 2\n",
    "# # all_alphas = np.linspace(0.05, 0.2, n_alphas)\n",
    "# all_alphas = np.linspace(0.04, 0.07, n_alphas)\n",
    "alpha = 0.12\n",
    "\n",
    "# n_noisy_betas = 3\n",
    "# all_beta_noises = np.linspace(0.05, 0.15, n_noisy_betas)\n",
    "beta_noise=1.5\n",
    "n_noisy_betas=2\n",
    "\n",
    "n_l_str = 2\n",
    "l_str=5\n",
    "\n",
    "# n_landmark_conditions = 2\n",
    "l_pos = np.array(([25, 150], [50,50],[40,170]))\n",
    "l_lookahead = 7.5\n",
    "l_pinning_n = 3\n",
    "l_use_nearby = True\n",
    "weight_noise = 0.05\n",
    "\n",
    "start_pos=this_pos[0]\n",
    "n_ln=5\n",
    "\n",
    "alpha_hebb = 0\n",
    "\n",
    "(A, _, W,\n",
    " pos, A_l, _,\n",
    " _, _) = run_sim2d(init_state, cell_position_diffs, \n",
    "                   n_y, n_x, alpha, beta, I, sigma_sim, T_sim, tau, velocity, start_pos, \n",
    "                   l_pos, l_str, n_ln, l_pinning_n, l_use_nearby, l_lookahead, alpha_hebb,\n",
    "                   n_warmup_bins, B0, beta_noise, weight_noise, W_input=None, W_l_input=None,\n",
    "                   output_bins=output_bins)\n",
    "\n",
    "\n",
    "\n"
   ]
  },
  {
   "cell_type": "code",
   "execution_count": null,
   "id": "59494e70-c950-4ebf-8d9d-6f308cfc092a",
   "metadata": {},
   "outputs": [],
   "source": []
  }
 ],
 "metadata": {
  "kernelspec": {
   "display_name": "Python 3 (ipykernel)",
   "language": "python",
   "name": "python3"
  },
  "language_info": {
   "codemirror_mode": {
    "name": "ipython",
    "version": 3
   },
   "file_extension": ".py",
   "mimetype": "text/x-python",
   "name": "python",
   "nbconvert_exporter": "python",
   "pygments_lexer": "ipython3",
   "version": "3.11.9"
  }
 },
 "nbformat": 4,
 "nbformat_minor": 5
}
